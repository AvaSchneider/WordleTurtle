{
 "cells": [
  {
   "cell_type": "markdown",
   "metadata": {
    "id": "2P744WJ6EiY4"
   },
   "source": [
    "#Wordle Turtle - A Wordle Bot and Playable Game\n",
    "## Ava Schneider and Ellery Bock\n",
    "### Team Shared Brain Cell"
   ]
  },
  {
   "cell_type": "code",
   "execution_count": 1,
   "metadata": {
    "id": "9rvJMCTVpy40"
   },
   "outputs": [],
   "source": [
    "# from google.colab import drive\n",
    "import os\n",
    "import pandas as pd\n",
    "from collections import Counter\n",
    "import random\n",
    "import matplotlib.pyplot as plt"
   ]
  },
  {
   "cell_type": "code",
   "execution_count": 2,
   "metadata": {
    "colab": {
     "base_uri": "https://localhost:8080/"
    },
    "id": "kjusiK_zL7k6",
    "outputId": "bb4112bb-4c21-442a-8e5f-0f22f0509495"
   },
   "outputs": [],
   "source": [
    "# drive.mount('/content/drive')\n",
    "# folder_path = '/content/drive/MyDrive/WordleTurtle'\n",
    "# os.chdir(folder_path)\n",
    "\n",
    "with open('wordle-nyt-answers-alphabetical.txt', 'r') as f:\n",
    "    answer_list= f.read().splitlines()\n",
    "with open('wordle-nyt-allowed-guesses-update-12546.txt', 'r') as f:\n",
    "    guess_list = f.read().splitlines()\n",
    "\n",
    "# print(\"Words from file1:\", answer_list)\n",
    "# print(\"Words from file2:\", guess_list)\n"
   ]
  },
  {
   "cell_type": "markdown",
   "metadata": {
    "id": "r_eMDjJCgH9_"
   },
   "source": [
    "## Pre-Processing\n",
    "Here we create three dataframes, one for the list of answer words, one for the list of guess words, and one of the two combined. Each dataframe has the whole word in the first column, and each letter alone in the subsequent five columns. Truncated versions of these dataframes are printed below"
   ]
  },
  {
   "cell_type": "code",
   "execution_count": 3,
   "metadata": {
    "id": "ozVa-fJPY6Lm"
   },
   "outputs": [],
   "source": [
    "def words_to_df(words_list):\n",
    "  data = []\n",
    "  for word in words_list:\n",
    "    row = [word] + list(word)  # first col is word, next cols are letters\n",
    "    data.append(row)\n",
    "\n",
    "  columns = [\"word\"] + [f\"letter_{i+1}\" for i in range(5)]\n",
    "\n",
    "  words_df = pd.DataFrame(data, columns=columns)\n",
    "\n",
    "  return words_df"
   ]
  },
  {
   "cell_type": "code",
   "execution_count": 4,
   "metadata": {
    "colab": {
     "base_uri": "https://localhost:8080/"
    },
    "id": "B_IIeI-LZTq4",
    "outputId": "f99a0d92-29c0-47c5-a476-0254966cf6e7"
   },
   "outputs": [
    {
     "name": "stdout",
     "output_type": "stream",
     "text": [
      "        word letter_1 letter_2 letter_3 letter_4 letter_5\n",
      "0      aback        a        b        a        c        k\n",
      "1      abase        a        b        a        s        e\n",
      "2      abate        a        b        a        t        e\n",
      "3      abbey        a        b        b        e        y\n",
      "4      abbot        a        b        b        o        t\n",
      "...      ...      ...      ...      ...      ...      ...\n",
      "14850  zuzim        z        u        z        i        m\n",
      "14851  zygal        z        y        g        a        l\n",
      "14852  zygon        z        y        g        o        n\n",
      "14853  zymes        z        y        m        e        s\n",
      "14854  zymic        z        y        m        i        c\n",
      "\n",
      "[14855 rows x 6 columns]\n",
      "       word letter_1 letter_2 letter_3 letter_4 letter_5\n",
      "0     aback        a        b        a        c        k\n",
      "1     abase        a        b        a        s        e\n",
      "2     abate        a        b        a        t        e\n",
      "3     abbey        a        b        b        e        y\n",
      "4     abbot        a        b        b        o        t\n",
      "...     ...      ...      ...      ...      ...      ...\n",
      "2304  young        y        o        u        n        g\n",
      "2305  youth        y        o        u        t        h\n",
      "2306  zebra        z        e        b        r        a\n",
      "2307  zesty        z        e        s        t        y\n",
      "2308  zonal        z        o        n        a        l\n",
      "\n",
      "[2309 rows x 6 columns]\n",
      "        word letter_1 letter_2 letter_3 letter_4 letter_5\n",
      "0      aahed        a        a        h        e        d\n",
      "1      aalii        a        a        l        i        i\n",
      "2      aapas        a        a        p        a        s\n",
      "3      aargh        a        a        r        g        h\n",
      "4      aarti        a        a        r        t        i\n",
      "...      ...      ...      ...      ...      ...      ...\n",
      "12541  zuzim        z        u        z        i        m\n",
      "12542  zygal        z        y        g        a        l\n",
      "12543  zygon        z        y        g        o        n\n",
      "12544  zymes        z        y        m        e        s\n",
      "12545  zymic        z        y        m        i        c\n",
      "\n",
      "[12546 rows x 6 columns]\n"
     ]
    }
   ],
   "source": [
    "all_words = answer_list + guess_list\n",
    "all_words_df = words_to_df(all_words)\n",
    "print(all_words_df)\n",
    "\n",
    "answer_list_df = words_to_df(answer_list)\n",
    "print(answer_list_df)\n",
    "\n",
    "guess_list_df = words_to_df(guess_list)\n",
    "print(guess_list_df)"
   ]
  },
  {
   "cell_type": "markdown",
   "metadata": {
    "id": "DPTbmvRjga9m"
   },
   "source": [
    "## Heuristic Part One\n",
    "This function is a key part of our heuristic function. The output of this cell displays the frequency at which each letter appears in each position in the list of answer words."
   ]
  },
  {
   "cell_type": "code",
   "execution_count": 5,
   "metadata": {
    "id": "bgVS_OUQ7Rxo"
   },
   "outputs": [],
   "source": [
    "def letter_frequency(words_df):\n",
    "    letter_frequencies = {}\n",
    "\n",
    "    for i in range(1, 6):\n",
    "      letter_frequencies[i] = {}\n",
    "      for letter in \"abcdefghijklmnopqrstuvwxyz\":\n",
    "        letter_frequencies[i][letter] = 0\n",
    "\n",
    "    for i in range(1, 6):\n",
    "      column_name = f\"letter_{i}\"\n",
    "      for letter in words_df[column_name]:\n",
    "        if letter.lower() in \"abcdefghijklmnopqrstuvwxyz\":\n",
    "            letter_frequencies[i][letter.lower()] += 1\n",
    "\n",
    "    frequency_df = pd.DataFrame(letter_frequencies)\n",
    "    return frequency_df"
   ]
  },
  {
   "cell_type": "code",
   "execution_count": 6,
   "metadata": {
    "colab": {
     "base_uri": "https://localhost:8080/"
    },
    "id": "j0pOg4rs7na-",
    "outputId": "558011ec-d30b-4477-ed73-3cfb1435f682"
   },
   "outputs": [
    {
     "name": "stdout",
     "output_type": "stream",
     "text": [
      "     1    2    3    4    5\n",
      "a  140  304  306  162   63\n",
      "b  173   16   56   24   11\n",
      "c  198   40   56  150   31\n",
      "d  111   20   75   69  118\n",
      "e   72  241  177  318  422\n",
      "f  135    8   25   35   26\n",
      "g  115   11   67   76   41\n",
      "h   69  144    9   28  137\n",
      "i   34  201  266  158   11\n",
      "j   20    2    3    2    0\n",
      "k   20   10   12   55  113\n",
      "l   87  200  112  162  155\n",
      "m  107   38   61   68   42\n",
      "n   37   87  137  182  130\n",
      "o   41  279  243  132   58\n",
      "p  141   61   57   50   56\n",
      "q   23    5    1    0    0\n",
      "r  105  267  163  150  212\n",
      "s  365   16   80  171   36\n",
      "t  149   77  111  139  253\n",
      "u   33  185  165   82    1\n",
      "v   43   15   49   45    0\n",
      "w   82   44   26   25   17\n",
      "x    0   14   12    3    8\n",
      "y    6   22   29    3  364\n",
      "z    3    2   11   20    4\n"
     ]
    }
   ],
   "source": [
    "frequency_df = letter_frequency(answer_list_df)\n",
    "print(frequency_df)"
   ]
  },
  {
   "cell_type": "markdown",
   "metadata": {
    "id": "Jyzuig1AhGr2"
   },
   "source": [
    "## Heuristic Part Two\n",
    "This next function scores each word in the given list based on the frequency of each letter in each location. These values are summed and appended as the score for the given word. The higher the score, the better a guess it is."
   ]
  },
  {
   "cell_type": "code",
   "execution_count": 20,
   "metadata": {
    "id": "oCmbxM3AYjvR"
   },
   "outputs": [],
   "source": [
    "def calculate_word_score(word_row):\n",
    "    score = 0\n",
    "    for i in range(1, 6):  # 1st index is whole word. Need letters only\n",
    "        letter = word_row.iloc[i]\n",
    "        score += frequency_df.at[letter, i]\n",
    "    return score"
   ]
  },
  {
   "cell_type": "markdown",
   "metadata": {
    "id": "_IPuDmgRhbsn"
   },
   "source": [
    "## Best Starting Word\n",
    "By giving the list of possible answers to this funciton, we find that 'SLATE' is the best starting guess. Out of all answer words, it has the highest number of common letters at each location. The \"at each location\" is key, as getting a green square (2) as feedback from the game will eliminate the maximum amount of possible guesses. 'SLATE' has a score of 1432."
   ]
  },
  {
   "cell_type": "code",
   "execution_count": 21,
   "metadata": {
    "colab": {
     "base_uri": "https://localhost:8080/"
    },
    "id": "yh6WqBcjXBal",
    "outputId": "69a7a057-8aca-4b09-9b55-99fc29987108"
   },
   "outputs": [
    {
     "name": "stdout",
     "output_type": "stream",
     "text": [
      "       word letter_1 letter_2 letter_3 letter_4 letter_5  score\n",
      "0     aback        a        b        a        c        k    725\n",
      "1     abase        a        b        a        s        e   1055\n",
      "2     abate        a        b        a        t        e   1023\n",
      "3     abbey        a        b        b        e        y    894\n",
      "4     abbot        a        b        b        o        t    597\n",
      "...     ...      ...      ...      ...      ...      ...    ...\n",
      "2304  young        y        o        u        n        g    673\n",
      "2305  youth        y        o        u        t        h    726\n",
      "2306  zebra        z        e        b        r        a    513\n",
      "2307  zesty        z        e        s        t        y    827\n",
      "2308  zonal        z        o        n        a        l    736\n",
      "\n",
      "[2309 rows x 7 columns]\n",
      "\n",
      "        word letter_1 letter_2 letter_3 letter_4 letter_5  score\n",
      "0      aahed        a        a        h        e        d    889\n",
      "1      aalii        a        a        l        i        i    725\n",
      "2      aapas        a        a        p        a        s    699\n",
      "3      aargh        a        a        r        g        h    820\n",
      "4      aarti        a        a        r        t        i    757\n",
      "...      ...      ...      ...      ...      ...      ...    ...\n",
      "12541  zuzim        z        u        z        i        m    399\n",
      "12542  zygal        z        y        g        a        l    409\n",
      "12543  zygon        z        y        g        o        n    354\n",
      "12544  zymes        z        y        m        e        s    440\n",
      "12545  zymic        z        y        m        i        c    275\n",
      "\n",
      "[12546 rows x 7 columns]\n"
     ]
    }
   ],
   "source": [
    "answer_list_df[\"score\"] = answer_list_df.apply(calculate_word_score, axis=1)\n",
    "print(answer_list_df)\n",
    "print()\n",
    "\n",
    "guess_list_df[\"score\"] = guess_list_df.apply(calculate_word_score, axis=1)\n",
    "print(guess_list_df)"
   ]
  },
  {
   "cell_type": "code",
   "execution_count": 9,
   "metadata": {
    "colab": {
     "base_uri": "https://localhost:8080/"
    },
    "id": "Do552qgyZ6tN",
    "outputId": "a0d12a08-bd80-4141-82ad-ce3904992921"
   },
   "outputs": [
    {
     "name": "stdout",
     "output_type": "stream",
     "text": [
      "word        slate\n",
      "letter_1        s\n",
      "letter_2        l\n",
      "letter_3        a\n",
      "letter_4        t\n",
      "letter_5        e\n",
      "score        1432\n",
      "Name: 1773, dtype: object\n"
     ]
    }
   ],
   "source": [
    "max_score_index = answer_list_df[\"score\"].idxmax()\n",
    "max_score_row = answer_list_df.loc[max_score_index]\n",
    "\n",
    "print(max_score_row)"
   ]
  },
  {
   "cell_type": "code",
   "execution_count": 10,
   "metadata": {
    "id": "VHsPYtnEHquR"
   },
   "outputs": [],
   "source": [
    "answer_columns = answer_list_df[[\"word\", \"score\"]]\n",
    "guess_colomns = guess_list_df[[\"word\", \"score\"]]\n",
    "\n",
    "answer_score_list = answer_columns.values.tolist()\n",
    "guess_score_list = guess_colomns.values.tolist()\n",
    "\n",
    "# print(answer_score_list)\n",
    "# print(guess_score_list)"
   ]
  },
  {
   "cell_type": "markdown",
   "metadata": {
    "id": "1FPQkM3ph5ML"
   },
   "source": [
    "## The Game\n",
    "This class is our implementation of Wordle. It behaves exactly as the original game does. Upon instantiation, it selects a random word from the answer list, and the player or bot can make guesses with calls to the make_guess() function. It then gives feedback, although instead of colored squares, a 0 means the letter is not in the answer, a 1 means the letter is in the answer but in the wrong position, and a 2 means the letter is in the right position in the answer. This can be used by human and bot alike to facilitate their next guess. The game ends when the correct answer is guessed, or the number of guesses reaches 6."
   ]
  },
  {
   "cell_type": "code",
   "execution_count": 11,
   "metadata": {
    "id": "39M1kdU_CM4L"
   },
   "outputs": [],
   "source": [
    "class Wordle:\n",
    "    def __init__(self, answer_list, guess_list, verbose):\n",
    "        self.answer_list = answer_list\n",
    "        self.guess_list = guess_list\n",
    "        self.answer = random.choice(self.answer_list)\n",
    "        self.allowed_guesses = 6\n",
    "        self.guess_history = []\n",
    "        self.game_state = 1  # 1 -> in progress, 0 -> loss, 2 -> win\n",
    "        self.guess = \"\"\n",
    "        self.num_guesses = 0\n",
    "        self.verbose = verbose\n",
    "        if self.verbose:\n",
    "          print(\"Welcome to Wordle! To make a guess, call wordle.make_guess(\"\").\")\n",
    "          print(\"After your guess, your feedback will appear.\")\n",
    "          print(\"A 0 means your guessed letter is not in the answer.\")\n",
    "          print(\"A 1 means your guessed letter is in the answer, but not in the position you guessed.\")\n",
    "          print(\"A 2 means your guessed letter in the answer in the position you guessed.\")\n",
    "          print(\"Good Luck!\")\n",
    "          print()\n",
    "\n",
    "    def get_game_state(self):\n",
    "      return self.game_state\n",
    "\n",
    "    def get_guess_history(self):\n",
    "      return self.guess_history\n",
    "\n",
    "    def get_answer(self):\n",
    "      return self.answer\n",
    "\n",
    "    def get_num_guesses(self):\n",
    "      return self.num_guesses\n",
    "\n",
    "    def make_guess(self, guess):\n",
    "      if self.get_game_state() != 1:  # game is over, redundant check\n",
    "        print(\"Game is over, to play again run: wordle = Wordle(answer_list, guess_list, verbose = True)\")\n",
    "        return\n",
    "\n",
    "      self.num_guesses += 1\n",
    "      self.guess = guess.lower()  # for user input\n",
    "\n",
    "      if guess not in self.answer_list and guess not in self.guess_list:  # if invalid word\n",
    "        print(\"Not a valid word.\")\n",
    "        self.num_guesses -= 1  # invalid guess doesn't count\n",
    "        return\n",
    "\n",
    "      self.guess_history.append(guess)\n",
    "\n",
    "      feedback_array = [[letter, 0] for letter in guess]  # initialize with 0 feedback for all letters\n",
    "\n",
    "      for i in range(len(self.answer)):  # mark correct letters (2)\n",
    "          if self.answer[i] == guess[i]:\n",
    "              feedback_array[i][1] = 2\n",
    "\n",
    "      for i in range(len(self.answer)):  # mark letters in the wrong place (1)\n",
    "          if feedback_array[i][1] == 0:\n",
    "              if guess[i] in self.answer:\n",
    "                feedback_array[i][1] = 1\n",
    "\n",
    "      if self.verbose:\n",
    "        print(\"Guess:\", guess)\n",
    "        print(\"Feedback:\", feedback_array)\n",
    "\n",
    "      if self.guess == self.answer:  # correct guess, game over\n",
    "        self.game_state = 2\n",
    "        if self.verbose:\n",
    "          print(f\"Congratulations! You guessed the word! '{self.answer}'.\")\n",
    "        return feedback_array\n",
    "\n",
    "      if self.num_guesses >= self.allowed_guesses:  # out of guesses, game over\n",
    "        self.game_state = 0\n",
    "        if self.verbose:\n",
    "          print(f\"1 IQ fr, the answer was '{self.answer}'.\")\n",
    "        return feedback_array\n",
    "\n",
    "      return feedback_array\n"
   ]
  },
  {
   "cell_type": "markdown",
   "metadata": {
    "id": "uN2AS2HuLI_C"
   },
   "source": [
    "## Sample Manual Game"
   ]
  },
  {
   "cell_type": "code",
   "execution_count": 12,
   "metadata": {
    "colab": {
     "base_uri": "https://localhost:8080/"
    },
    "id": "ATE4hoozCZsS",
    "outputId": "81214549-dfd6-4e6e-edbf-6cb61ee4d1fe"
   },
   "outputs": [
    {
     "name": "stdout",
     "output_type": "stream",
     "text": [
      "Welcome to Wordle! To make a guess, call wordle.make_guess().\n",
      "After your guess, your feedback will appear.\n",
      "A 0 means your guessed letter is not in the answer.\n",
      "A 1 means your guessed letter is in the answer, but not in the position you guessed.\n",
      "A 2 means your guessed letter in the answer in the position you guessed.\n",
      "Good Luck!\n",
      "\n",
      "Guess: slate\n",
      "Feedback: [['s', 0], ['l', 1], ['a', 0], ['t', 0], ['e', 1]]\n",
      "Guess: arise\n",
      "Feedback: [['a', 0], ['r', 0], ['i', 0], ['s', 0], ['e', 1]]\n",
      "Guess: smack\n",
      "Feedback: [['s', 0], ['m', 0], ['a', 0], ['c', 0], ['k', 0]]\n",
      "Not a valid word.\n",
      "Guess: onion\n",
      "Feedback: [['o', 0], ['n', 0], ['i', 0], ['o', 0], ['n', 0]]\n",
      "Guess: gross\n",
      "Feedback: [['g', 0], ['r', 0], ['o', 0], ['s', 0], ['s', 0]]\n",
      "Guess: black\n",
      "Feedback: [['b', 0], ['l', 1], ['a', 0], ['c', 0], ['k', 0]]\n",
      "1 IQ fr, the answer was 'whelp'.\n",
      "Game is over, to play again run: wordle = Wordle(answer_list, guess_list, verbose = True)\n"
     ]
    }
   ],
   "source": [
    "wordle = Wordle(answer_list, guess_list, verbose = True)\n",
    "wordle.make_guess(\"slate\")\n",
    "wordle.make_guess(\"arise\")\n",
    "wordle.make_guess(\"smack\")\n",
    "wordle.make_guess(\"ababa\")\n",
    "wordle.make_guess(\"onion\")\n",
    "wordle.make_guess(\"gross\")\n",
    "wordle.make_guess(\"black\")\n",
    "wordle.make_guess(\"swift\")"
   ]
  },
  {
   "cell_type": "markdown",
   "metadata": {
    "id": "anv-IY88jBhJ"
   },
   "source": [
    "## Random Baseline\n",
    "This is our random baseline that is very, very bad at playing Wordle. It guesses random words, from both lists until the final guess, like our other bots, until it wins or loses. This is able to beat Wordle a little less than .1% of the time."
   ]
  },
  {
   "cell_type": "code",
   "execution_count": 13,
   "metadata": {
    "colab": {
     "base_uri": "https://localhost:8080/"
    },
    "id": "rjo50umiYcxZ",
    "outputId": "f2354797-86c3-4f3a-c389-b8e0d5a69aaa"
   },
   "outputs": [
    {
     "name": "stdout",
     "output_type": "stream",
     "text": [
      "Total Games: 10000\n",
      "Number of Wins:  7\n",
      "Number of Losses:  9993\n"
     ]
    }
   ],
   "source": [
    "num_wins_rand = 0\n",
    "num_losses_rand = 0\n",
    "guesses_to_win_rand = []\n",
    "for i in range(10000):\n",
    "  random_wordle = Wordle(answer_list, guess_list, verbose = False)\n",
    "  while random_wordle.game_state == 1:\n",
    "    if random_wordle.num_guesses < 5:\n",
    "      random_wordle.make_guess(random.choice(all_words_df[\"word\"]))\n",
    "    elif random_wordle.num_guesses == 5:\n",
    "      random_wordle.make_guess(random.choice(answer_list_df[\"word\"]))\n",
    "\n",
    "  if random_wordle.get_game_state() == 2:\n",
    "    guesses_to_win_rand.append(random_wordle.num_guesses)\n",
    "    num_wins_rand += 1\n",
    "  if random_wordle.get_game_state() == 0:\n",
    "    num_losses_rand += 1\n",
    "\n",
    "print(\"Total Games: 10000\")\n",
    "print(\"Number of Wins: \", num_wins_rand)\n",
    "print(\"Number of Losses: \", num_losses_rand)"
   ]
  },
  {
   "cell_type": "markdown",
   "metadata": {
    "id": "Cue2BNEic66z"
   },
   "source": [
    "## Constraint Propegation\n",
    "\n",
    "This function performs constraint propagation, narrowing down the domains (possible letters) of the variables (each letter position) using the feedback as constraints. The function returns only words that satisfy every constraint. There will always be at least one, the answer. By pruning the search space, the solver incrementally converges toward finding the answer."
   ]
  },
  {
   "cell_type": "code",
   "execution_count": 14,
   "metadata": {
    "id": "ds2zB-P5Ca9u"
   },
   "outputs": [],
   "source": [
    "def eliminate_words(answer_list, guess_list, guess, feedback_array):\n",
    "    new_answer_list = []\n",
    "    new_guess_list = []\n",
    "\n",
    "    for word, score in answer_list:\n",
    "        valid = True\n",
    "        for i in range(5):\n",
    "            letter, feedback = feedback_array[i] #getting the letter and feedback\n",
    "            if feedback == 0 and letter in word: #if is in word when it SHOULDN'T be\n",
    "                valid = False # not a valid guess\n",
    "                break\n",
    "\n",
    "            if feedback == 1 and (letter not in word or letter == word[i]): # if letter is in not in word or is in guessed position when it SHOULDN'T be\n",
    "                valid = False\n",
    "                break\n",
    "\n",
    "            if feedback == 2 and letter != word[i]: # if letter is not in word at the correct position when it SHOULD be in that position\n",
    "                valid = False\n",
    "                break\n",
    "\n",
    "        if valid:\n",
    "            new_answer_list.append([word, score])\n",
    "\n",
    "    for word, score in guess_list: # ditto see above\n",
    "        valid = True\n",
    "        for i in range(5):\n",
    "            letter, feedback = feedback_array[i]\n",
    "            if feedback == 0 and letter in word:\n",
    "                valid = False\n",
    "                break\n",
    "\n",
    "            if feedback == 1 and (letter not in word or letter == word[i]):\n",
    "                valid = False\n",
    "                break\n",
    "\n",
    "            if feedback == 2 and letter != word[i]:\n",
    "                valid = False\n",
    "                break\n",
    "\n",
    "        if valid:\n",
    "            new_guess_list.append([word, score])\n",
    "\n",
    "    return new_answer_list, new_guess_list"
   ]
  },
  {
   "cell_type": "markdown",
   "metadata": {
    "id": "AIIsmQVofpHu"
   },
   "source": [
    "## Constraint Propegation Solver\n",
    "This solver uses the elimination function to make better guesses than the random solver.\n",
    "It models roughly how a human would play the game. As a human player, you look at the feedback you get, and go through the list of words that you know that satisfy these constraints.\n",
    "\n",
    "Like the random solver, it makes guesses from both lists to maximuze the amount of learned information (constraints) until the final guess where it makes a last hail-mary guess at the answer. By making a random choice out of the reduced problem domain (list of valid words), we get a model that beats Wordle 93.9% of the time."
   ]
  },
  {
   "cell_type": "code",
   "execution_count": 15,
   "metadata": {
    "colab": {
     "base_uri": "https://localhost:8080/"
    },
    "id": "4gmxmWsRNs_L",
    "outputId": "3b47bc0e-faf5-4e25-a921-8cf807867925"
   },
   "outputs": [
    {
     "name": "stdout",
     "output_type": "stream",
     "text": [
      "Total Games: 10000\n",
      "Number of Wins:  9429\n",
      "Number of Losses:  571\n",
      "Answers Turtle Missed More Than Once:\n",
      "tabby: 4\tbully: 4\tvaunt: 3\ttatty: 3\twinch: 3\tbitty: 3\tbatch: 3\tstage: 3\thandy: 3\thinge: 3\t\n",
      "power: 3\twitch: 3\tmower: 3\tbudge: 3\thover: 3\twound: 3\tpoker: 3\towner: 3\ttrawl: 3\tpinch: 3\t\n",
      "outer: 3\tmover: 2\thairy: 2\tlorry: 2\trover: 2\tdowdy: 2\tmerry: 2\tfiber: 2\tsunny: 2\tdroll: 2\t\n",
      "slush: 2\tstoke: 2\tbinge: 2\tqueer: 2\tracer: 2\tsemen: 2\trarer: 2\tmound: 2\thaunt: 2\tcough: 2\t\n",
      "alive: 2\trower: 2\tdandy: 2\tgoing: 2\tpaddy: 2\tround: 2\thound: 2\tzesty: 2\tstaff: 2\ttried: 2\t\n",
      "smell: 2\tsower: 2\tshave: 2\tjiffy: 2\tfatty: 2\tlager: 2\ttrain: 2\twince: 2\tbilly: 2\tdusty: 2\t\n",
      "crane: 2\trecap: 2\thater: 2\tpound: 2\tfilly: 2\tdross: 2\twater: 2\tscary: 2\twiser: 2\tabort: 2\t\n",
      "quest: 2\tcurvy: 2\tmanly: 2\tsavoy: 2\tharry: 2\tguest: 2\trepel: 2\tpuffy: 2\tblock: 2\tscare: 2\t\n",
      "cress: 2\tpitch: 2\tputty: 2\tmight: 2\tpatch: 2\terode: 2\tpayer: 2\tcatty: 2\tgirth: 2\tcanny: 2\t\n",
      "batty: 2\tcatch: 2\tjolly: 2\tparty: 2\tneedy: 2\tsurge: 2\tmayor: 2\twafer: 2\twaste: 2\twield: 2\t\n",
      "wedge: 2\ttable: 2\twider: 2\tspoof: 2\tsally: 2\tfuzzy: 2\tstack: 2\tcanoe: 2\ttooth: 2\tsuave: 2\t\n",
      "score: 2\tsappy: 2\tditch: 2\tchaff: 2\tbreed: 2\ttight: 2\tcover: 2\tparry: 2\t"
     ]
    }
   ],
   "source": [
    "num_wins_elim = 0\n",
    "num_losses_elim = 0\n",
    "feedback = {}\n",
    "guesses_to_win_elim = []\n",
    "missed_answers_elim = []\n",
    "\n",
    "for i in range(10000):\n",
    "    eliminate_wordle = Wordle(answer_list, guess_list, verbose=False)\n",
    "\n",
    "    current_answer_list = answer_score_list.copy()  # so it doesn't eliminate from the real lists\n",
    "    current_guess_list = guess_score_list.copy()\n",
    "\n",
    "    while eliminate_wordle.get_game_state() == 1:\n",
    "      if eliminate_wordle.num_guesses < 5:  # random guess from both eliminated lists\n",
    "        current_guess = random.choice(current_guess_list + current_answer_list)\n",
    "        feedback = eliminate_wordle.make_guess(current_guess[0])\n",
    "        current_answer_list, current_guess_list = eliminate_words(current_answer_list, current_guess_list, current_guess, feedback)\n",
    "\n",
    "      elif eliminate_wordle.num_guesses == 5:  # random guess from answer list only on last guess (before guess made num_guesses is 5)\n",
    "        current_guess = random.choice(current_answer_list)\n",
    "        feedback = eliminate_wordle.make_guess(current_guess[0])\n",
    "\n",
    "    if eliminate_wordle.get_game_state() == 2:\n",
    "      guesses_to_win_elim.append(eliminate_wordle.num_guesses)\n",
    "      num_wins_elim += 1\n",
    "    if eliminate_wordle.get_game_state() == 0:\n",
    "      num_losses_elim += 1\n",
    "      missed_answers_elim.append(eliminate_wordle.get_answer())\n",
    "\n",
    "print(\"Total Games: 10000\")\n",
    "print(\"Number of Wins: \", num_wins_elim)\n",
    "print(\"Number of Losses: \", num_losses_elim)\n",
    "\n",
    "missed_counts = Counter(missed_answers_elim)\n",
    "sorted_missed = sorted(missed_counts.items(), key=lambda x: x[1], reverse=True)\n",
    "filtered_missed = [(word, count) for word, count in sorted_missed if count > 1]  # only print ones it misses more than once for brevity\n",
    "\n",
    "print(\"Answers Turtle Missed More Than Once:\")\n",
    "for i, (word, count) in enumerate(filtered_missed, start=1):\n",
    "    print(f\"{word}: {count}\", end=\"\\t\")\n",
    "    if i % 10 == 0:\n",
    "        print()"
   ]
  },
  {
   "cell_type": "markdown",
   "metadata": {
    "id": "D4IG5BoyiWkJ"
   },
   "source": [
    "## Heuristic Part Three\n",
    "This function uses the heuristic described above. Given the pruned lists of words, instead of making a random choice, we make a heuristic-informed choice. We choose the word that will give us the maxiumum amount of information, the one with the most common letters at each location, which in turn will prune our problem domain more efficiently.\n",
    "\n",
    "The conditionals:\n",
    "\n",
    "It is possible that we have eliminated every word in the guess list, but the answer list will always at least contain the answer.\n",
    "\n",
    "If the number of words in the answer list is less than the amount of remaining guesses, this is a guarenteed win and an answer word should be chosen.\n",
    "\n",
    "Otherwise, the max from both lists are taken.\n",
    "\n",
    "After this, we use a multiplier to weigh the answer words more heavily. This guides the solver towards guessing answer words at different key parts of the game. We want to guess an answer word to start, to get as much information about the answer list as possible, so a multiplier of 2 will guarentee this. Afterwards, we want to use both lists because we can get more general information about the constraints this way. In the 4th and 5th guesses, we nudge a little further toward the answer list, and on the final guess, the same as the other two solvers, we make the final hail-mary guess only from the answer list.\n"
   ]
  },
  {
   "cell_type": "code",
   "execution_count": 16,
   "metadata": {
    "id": "CVwprbnrCKz5"
   },
   "outputs": [],
   "source": [
    "def use_heuristic(answer_score_list, guess_score_list, multiplier, num_guesses):\n",
    "\n",
    "    if len(guess_score_list) == 0:  # no more valid guessing words (were all eliminated)\n",
    "      top_answer_list = max(answer_score_list, key=lambda x: x[1])\n",
    "      return top_answer_list[0]\n",
    "\n",
    "    elif len(answer_score_list) <= (6 - num_guesses):  # if there are less words in answer list than number of guesses left, guarenteed win\n",
    "      top_answer_list = max(answer_score_list, key=lambda x: x[1])  # take max scored word\n",
    "      return top_answer_list[0]\n",
    "    else :  # enough words in both lists\n",
    "      top_guess_list = max(guess_score_list, key=lambda x: x[1])\n",
    "      top_answer_list = max(answer_score_list, key=lambda x: x[1])\n",
    "\n",
    "      top_answer_list[1] = top_answer_list[1] * multiplier  # weight the answer words more heavily\n",
    "\n",
    "      if top_answer_list[1] > top_guess_list[1]:\n",
    "          return top_answer_list[0]\n",
    "      else:\n",
    "        return top_guess_list[0]"
   ]
  },
  {
   "cell_type": "markdown",
   "metadata": {
    "id": "sOe7Ff6j7i7Z"
   },
   "source": [
    "## The Heuristic Solver (The Wordle Turtle)\n",
    "This solver uses the heuristic to make an informed guess, and the problem domain is pruned with the feedback from this informed guess. Using all of the tricks in our bag, the Wordle Turtle was able to beat Wordle 98.3% of the time.\n"
   ]
  },
  {
   "cell_type": "code",
   "execution_count": 17,
   "metadata": {
    "colab": {
     "base_uri": "https://localhost:8080/"
    },
    "id": "3XLQ7k2GzxAp",
    "outputId": "8cf76852-43fd-4120-bdc0-e3a068bcfb85"
   },
   "outputs": [
    {
     "name": "stdout",
     "output_type": "stream",
     "text": [
      "Total Games: 10000\n",
      "Number of Wins:  9848\n",
      "Number of Losses:  152\n",
      "Answers Turtle Missed:\n",
      "giver: 9\tsmell: 9\tkrill: 7\tharry: 7\tstaff: 7\tviper: 6\tgleam: 6\thandy: 6\trower: 6\thappy: 5\t\n",
      "rover: 5\twider: 5\trefer: 5\twatch: 5\tshape: 4\thomer: 4\thilly: 4\tdaddy: 4\tjoker: 4\tjolly: 3\t\n",
      "hover: 3\tscore: 3\thound: 3\twound: 3\tgraze: 3\tjaunt: 3\tdrown: 3\terode: 3\tdiver: 2\triver: 2\t\n",
      "hatch: 2\twight: 2\thaste: 2\tshake: 2\thedge: 2\tjazzy: 1\twoken: 1\tsnake: 1\t"
     ]
    }
   ],
   "source": [
    "num_wins_heur = 0\n",
    "num_losses_heur = 0\n",
    "feedback = {}\n",
    "guesses_to_win_heur = []\n",
    "missed_answers_heur = []\n",
    "\n",
    "for i in range(10000):\n",
    "    heuristic_wordle = Wordle(answer_list, guess_list, verbose=False)\n",
    "\n",
    "    current_answer_list = answer_score_list.copy()\n",
    "    current_guess_list = guess_score_list.copy()\n",
    "    multipliers = [2, 1, 1, 1.1, 1.2, 2]  # weight the answer words more heavily at key points in the game\n",
    "\n",
    "    while heuristic_wordle.get_game_state() == 1:\n",
    "        current_guess = use_heuristic(current_answer_list, current_guess_list, multipliers[heuristic_wordle.num_guesses], heuristic_wordle.num_guesses)  # not random, pick max score\n",
    "        feedback = heuristic_wordle.make_guess(current_guess)\n",
    "        current_answer_list, current_guess_list = eliminate_words(current_answer_list, current_guess_list, current_guess, feedback)\n",
    "\n",
    "    if heuristic_wordle.get_game_state() == 2:\n",
    "      guesses_to_win_heur.append(heuristic_wordle.num_guesses)\n",
    "      num_wins_heur += 1\n",
    "    if heuristic_wordle.get_game_state() == 0:\n",
    "      num_losses_heur += 1\n",
    "      missed_answers_heur.append(heuristic_wordle.get_answer())\n",
    "\n",
    "print(\"Total Games: 10000\")\n",
    "print(\"Number of Wins: \", num_wins_heur)\n",
    "print(\"Number of Losses: \", num_losses_heur)\n",
    "\n",
    "missed_counts = Counter(missed_answers_heur)\n",
    "sorted_missed = sorted(missed_counts.items(), key=lambda x: x[1], reverse=True)\n",
    "\n",
    "print(\"Answers Turtle Missed:\")\n",
    "for i, (word, count) in enumerate(sorted_missed, start=1):\n",
    "    print(f\"{word}: {count}\", end=\"\\t\")\n",
    "    if i % 10 == 0:\n",
    "        print()\n"
   ]
  },
  {
   "cell_type": "markdown",
   "metadata": {
    "id": "IMMX2YUP-rev"
   },
   "source": [
    "## Results\n",
    "Results will be discussed in accompianing paper."
   ]
  },
  {
   "cell_type": "code",
   "execution_count": 18,
   "metadata": {
    "colab": {
     "base_uri": "https://localhost:8080/",
     "height": 542
    },
    "id": "Trgr6Q7tt8FT",
    "outputId": "f395b754-d6bf-40f1-af01-73c22fbd7864"
   },
   "outputs": [
    {
     "data": {
      "image/png": "[encoded data removed]",
      "text/plain": [
       "<Figure size 1500x500 with 3 Axes>"
      ]
     },
     "metadata": {},
     "output_type": "display_data"
    }
   ],
   "source": [
    "titles = [\"Random Choice Wordle\", \"Elimination Wordle\", \"Heuristic Wordle\"]\n",
    "num_wins = [num_wins_rand, num_wins_elim, num_wins_heur]\n",
    "num_losses = [num_losses_rand, num_losses_elim, num_losses_heur]\n",
    "\n",
    "colors = [[\"lightskyblue\", \"dodgerblue\"],\n",
    "          [\"mediumslateblue\", \"blueviolet\"],\n",
    "          [\"hotpink\", \"deeppink\"]]\n",
    "\n",
    "fig, axes = plt.subplots(1, 3, figsize=(15, 5))\n",
    "\n",
    "for i, title in enumerate(titles):\n",
    "    labels = [\"Wins\", \"Losses\"]\n",
    "    sizes = [num_wins[i], num_losses[i]]\n",
    "\n",
    "    axes[i].pie(sizes, labels=labels, autopct='%1.1f%%', startangle=90, colors=colors[i])\n",
    "    axes[i].set_title(title)\n",
    "    axes[i].text(0, -1.2, f\"Wins: {num_wins[i]} | Losses: {num_losses[i]}\",\n",
    "                 ha=\"center\", fontsize=10, color=\"black\")\n",
    "\n",
    "footer_text = \"Total Games Per Model: 10,000\"\n",
    "fig.text(0.5, 0.01, footer_text, ha=\"center\", fontsize=12, color=\"black\")\n",
    "\n",
    "plt.tight_layout()\n",
    "plt.show()\n"
   ]
  },
  {
   "cell_type": "code",
   "execution_count": 19,
   "metadata": {
    "colab": {
     "base_uri": "https://localhost:8080/",
     "height": 506
    },
    "id": "-w9S9janqKoF",
    "outputId": "ac8ab225-b45c-4dbb-b123-cac00e58ac1d"
   },
   "outputs": [
    {
     "data": {
      "image/png": "[encoded data removed]",
      "text/plain": [
       "<Figure size 1500x500 with 3 Axes>"
      ]
     },
     "metadata": {},
     "output_type": "display_data"
    }
   ],
   "source": [
    "all_data = [guesses_to_win_rand, guesses_to_win_elim, guesses_to_win_heur]\n",
    "titles = [\"Random Choice Wordle\", \"Elimination Wordle\", \"Heuristic Wordle\"]\n",
    "colors = [\"lightskyblue\", \"mediumslateblue\", \"hotpink\"]\n",
    "\n",
    "plt.figure(figsize=(15, 5))\n",
    "\n",
    "max_y = 0\n",
    "for guesses in all_data[1:]: # keep y-scale the same for elimination and heuristic\n",
    "    frequencies = Counter(guesses)\n",
    "    max_y = max(max_y, max(frequencies.values())) + 100\n",
    "\n",
    "for i, (guesses, title, color) in enumerate(zip(all_data, titles, colors), start=1):\n",
    "    frequencies = Counter(guesses)\n",
    "    values = list(frequencies.keys())\n",
    "    counts = list(frequencies.values())\n",
    "    avg_guesses = sum(guesses) / len(guesses)\n",
    "\n",
    "    plt.subplot(1, 3, i)\n",
    "    plt.bar(values, counts, tick_label=values, color=color)\n",
    "    plt.title(title + f\"\\nAverage: {avg_guesses:.2f}\")\n",
    "    plt.xlabel(\"Number of Guesses to Win\")\n",
    "    plt.ylabel(\"Number of Won Games\")\n",
    "\n",
    "    if i in [2, 3]:\n",
    "        plt.ylim(0, max_y)\n",
    "\n",
    "plt.tight_layout()\n",
    "plt.show()\n",
    "\n"
   ]
  }
 ],
 "metadata": {
  "colab": {
   "provenance": []
  },
  "kernelspec": {
   "display_name": "base",
   "language": "python",
   "name": "python3"
  },
  "language_info": {
   "codemirror_mode": {
    "name": "ipython",
    "version": 3
   },
   "file_extension": ".py",
   "mimetype": "text/x-python",
   "name": "python",
   "nbconvert_exporter": "python",
   "pygments_lexer": "ipython3",
   "version": "3.11.5"
  }
 },
 "nbformat": 4,
 "nbformat_minor": 0
}
